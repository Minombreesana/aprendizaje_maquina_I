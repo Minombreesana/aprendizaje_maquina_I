{
 "cells": [
  {
   "cell_type": "code",
   "execution_count": 104,
   "id": "62d87935",
   "metadata": {},
   "outputs": [],
   "source": [
    "import numpy as np\n",
    "import pandas as pd\n",
    "import matplotlib.pyplot as plt\n",
    "import seaborn as sns\n",
    "from matplotlib.colors import ListedColormap\n",
    "\n",
    "from sklearn.model_selection import train_test_split\n",
    "from sklearn.decomposition import PCA\n",
    "from sklearn.preprocessing import StandardScaler\n",
    "\n",
    "from sklearn.linear_model import SGDClassifier\n",
    "from sklearn.metrics import precision_score\n",
    "from sklearn.metrics import classification_report\n",
    "\n",
    "from sklearn.model_selection import RandomizedSearchCV\n",
    "from sklearn.ensemble import RandomForestClassifier\n",
    "from sklearn.metrics import accuracy_score\n",
    "\n",
    "from sklearn.svm import SVC "
   ]
  },
  {
   "cell_type": "markdown",
   "id": "445a0e93",
   "metadata": {},
   "source": [
    "# Fraud Detection\n",
    "\n",
    "Este notebook pretende encontrar un modelo que permita detectar un posible fraude."
   ]
  },
  {
   "cell_type": "markdown",
   "id": "06e5e417",
   "metadata": {},
   "source": [
    "● Step: representa una unidad de tiempo donde 1 step equivale a 1 hora\n",
    "\n",
    "● type: tipo de transacción en línea\n",
    "\n",
    "● amount: el importe de la transacción\n",
    "\n",
    "● nameOrig: cliente que inicia la transacción\n",
    "\n",
    "● oldbalanceOrg: saldo antes de la transacción\n",
    "\n",
    "● newbalanceOrig: saldo después de la transacción\n",
    "\n",
    "● nameDest: destinatario de la transacción\n",
    "\n",
    "● oldbalanceDest: saldo inicial del destinatario antes de la transacción\n",
    "\n",
    "● newbalanceDest: el nuevo saldo del destinatario después de la transacción\n",
    "\n",
    "● isFraud: transacción fraudulenta"
   ]
  },
  {
   "cell_type": "markdown",
   "id": "171b02d8",
   "metadata": {},
   "source": [
    "## Exploración Inicial de Datos\n",
    "\n",
    "En esta exploración inicial revisamos que variables y qué tipo de variable tiene el dataset, cuantos valores nulos hay para cada variable."
   ]
  },
  {
   "cell_type": "code",
   "execution_count": 6,
   "id": "630afe68",
   "metadata": {},
   "outputs": [],
   "source": [
    "df = pd.read_csv('./data/fraud_detection.csv')"
   ]
  },
  {
   "cell_type": "code",
   "execution_count": 7,
   "id": "c8e736e7",
   "metadata": {},
   "outputs": [
    {
     "data": {
      "text/html": [
       "<div>\n",
       "<style scoped>\n",
       "    .dataframe tbody tr th:only-of-type {\n",
       "        vertical-align: middle;\n",
       "    }\n",
       "\n",
       "    .dataframe tbody tr th {\n",
       "        vertical-align: top;\n",
       "    }\n",
       "\n",
       "    .dataframe thead th {\n",
       "        text-align: right;\n",
       "    }\n",
       "</style>\n",
       "<table border=\"1\" class=\"dataframe\">\n",
       "  <thead>\n",
       "    <tr style=\"text-align: right;\">\n",
       "      <th></th>\n",
       "      <th>step</th>\n",
       "      <th>type</th>\n",
       "      <th>amount</th>\n",
       "      <th>nameOrig</th>\n",
       "      <th>oldbalanceOrg</th>\n",
       "      <th>newbalanceOrig</th>\n",
       "      <th>nameDest</th>\n",
       "      <th>oldbalanceDest</th>\n",
       "      <th>newbalanceDest</th>\n",
       "      <th>isFraud</th>\n",
       "      <th>isFlaggedFraud</th>\n",
       "    </tr>\n",
       "  </thead>\n",
       "  <tbody>\n",
       "    <tr>\n",
       "      <th>0</th>\n",
       "      <td>1</td>\n",
       "      <td>PAYMENT</td>\n",
       "      <td>9839.64</td>\n",
       "      <td>C1231006815</td>\n",
       "      <td>170136.0</td>\n",
       "      <td>160296.36</td>\n",
       "      <td>M1979787155</td>\n",
       "      <td>0.0</td>\n",
       "      <td>0.0</td>\n",
       "      <td>0</td>\n",
       "      <td>0</td>\n",
       "    </tr>\n",
       "    <tr>\n",
       "      <th>1</th>\n",
       "      <td>1</td>\n",
       "      <td>PAYMENT</td>\n",
       "      <td>1864.28</td>\n",
       "      <td>C1666544295</td>\n",
       "      <td>21249.0</td>\n",
       "      <td>19384.72</td>\n",
       "      <td>M2044282225</td>\n",
       "      <td>0.0</td>\n",
       "      <td>0.0</td>\n",
       "      <td>0</td>\n",
       "      <td>0</td>\n",
       "    </tr>\n",
       "    <tr>\n",
       "      <th>2</th>\n",
       "      <td>1</td>\n",
       "      <td>TRANSFER</td>\n",
       "      <td>181.00</td>\n",
       "      <td>C1305486145</td>\n",
       "      <td>181.0</td>\n",
       "      <td>0.00</td>\n",
       "      <td>C553264065</td>\n",
       "      <td>0.0</td>\n",
       "      <td>0.0</td>\n",
       "      <td>1</td>\n",
       "      <td>0</td>\n",
       "    </tr>\n",
       "    <tr>\n",
       "      <th>3</th>\n",
       "      <td>1</td>\n",
       "      <td>CASH_OUT</td>\n",
       "      <td>181.00</td>\n",
       "      <td>C840083671</td>\n",
       "      <td>181.0</td>\n",
       "      <td>0.00</td>\n",
       "      <td>C38997010</td>\n",
       "      <td>21182.0</td>\n",
       "      <td>0.0</td>\n",
       "      <td>1</td>\n",
       "      <td>0</td>\n",
       "    </tr>\n",
       "    <tr>\n",
       "      <th>4</th>\n",
       "      <td>1</td>\n",
       "      <td>PAYMENT</td>\n",
       "      <td>11668.14</td>\n",
       "      <td>C2048537720</td>\n",
       "      <td>41554.0</td>\n",
       "      <td>29885.86</td>\n",
       "      <td>M1230701703</td>\n",
       "      <td>0.0</td>\n",
       "      <td>0.0</td>\n",
       "      <td>0</td>\n",
       "      <td>0</td>\n",
       "    </tr>\n",
       "  </tbody>\n",
       "</table>\n",
       "</div>"
      ],
      "text/plain": [
       "   step      type    amount     nameOrig  oldbalanceOrg  newbalanceOrig  \\\n",
       "0     1   PAYMENT   9839.64  C1231006815       170136.0       160296.36   \n",
       "1     1   PAYMENT   1864.28  C1666544295        21249.0        19384.72   \n",
       "2     1  TRANSFER    181.00  C1305486145          181.0            0.00   \n",
       "3     1  CASH_OUT    181.00   C840083671          181.0            0.00   \n",
       "4     1   PAYMENT  11668.14  C2048537720        41554.0        29885.86   \n",
       "\n",
       "      nameDest  oldbalanceDest  newbalanceDest  isFraud  isFlaggedFraud  \n",
       "0  M1979787155             0.0             0.0        0               0  \n",
       "1  M2044282225             0.0             0.0        0               0  \n",
       "2   C553264065             0.0             0.0        1               0  \n",
       "3    C38997010         21182.0             0.0        1               0  \n",
       "4  M1230701703             0.0             0.0        0               0  "
      ]
     },
     "execution_count": 7,
     "metadata": {},
     "output_type": "execute_result"
    }
   ],
   "source": [
    "df.head()"
   ]
  },
  {
   "cell_type": "code",
   "execution_count": 8,
   "id": "9245a4cb",
   "metadata": {},
   "outputs": [
    {
     "name": "stdout",
     "output_type": "stream",
     "text": [
      "<class 'pandas.core.frame.DataFrame'>\n",
      "RangeIndex: 6362620 entries, 0 to 6362619\n",
      "Data columns (total 11 columns):\n",
      " #   Column          Dtype  \n",
      "---  ------          -----  \n",
      " 0   step            int64  \n",
      " 1   type            object \n",
      " 2   amount          float64\n",
      " 3   nameOrig        object \n",
      " 4   oldbalanceOrg   float64\n",
      " 5   newbalanceOrig  float64\n",
      " 6   nameDest        object \n",
      " 7   oldbalanceDest  float64\n",
      " 8   newbalanceDest  float64\n",
      " 9   isFraud         int64  \n",
      " 10  isFlaggedFraud  int64  \n",
      "dtypes: float64(5), int64(3), object(3)\n",
      "memory usage: 534.0+ MB\n"
     ]
    }
   ],
   "source": [
    "df.info()"
   ]
  },
  {
   "cell_type": "markdown",
   "id": "493ad7e7",
   "metadata": {},
   "source": [
    "Vemos que tenemos cinco variables categóricas: \"type\", \"nameOrig\", \"nameDest\", \"isFraud\", \"isFlaggedFraud\" (Estas dos últimas, si bien están representadas por números, son variables categóricas y es importante tenerlo en cuenta si queremos más adelante hacer cuadros de correlación para usar el coeficiente correcto). Más adelante vemos como haremos el tratamiento de cada una de ellas. "
   ]
  },
  {
   "cell_type": "code",
   "execution_count": 9,
   "id": "aa571a45",
   "metadata": {},
   "outputs": [
    {
     "data": {
      "text/plain": [
       "step              0\n",
       "type              0\n",
       "amount            0\n",
       "nameOrig          0\n",
       "oldbalanceOrg     0\n",
       "newbalanceOrig    0\n",
       "nameDest          0\n",
       "oldbalanceDest    0\n",
       "newbalanceDest    0\n",
       "isFraud           0\n",
       "isFlaggedFraud    0\n",
       "dtype: int64"
      ]
     },
     "execution_count": 9,
     "metadata": {},
     "output_type": "execute_result"
    }
   ],
   "source": [
    "df.isnull().sum()"
   ]
  },
  {
   "cell_type": "markdown",
   "id": "9da8f0db",
   "metadata": {},
   "source": [
    "No hay valores nulos. "
   ]
  },
  {
   "cell_type": "code",
   "execution_count": 10,
   "id": "b584c247",
   "metadata": {},
   "outputs": [
    {
     "data": {
      "text/html": [
       "<div>\n",
       "<style scoped>\n",
       "    .dataframe tbody tr th:only-of-type {\n",
       "        vertical-align: middle;\n",
       "    }\n",
       "\n",
       "    .dataframe tbody tr th {\n",
       "        vertical-align: top;\n",
       "    }\n",
       "\n",
       "    .dataframe thead th {\n",
       "        text-align: right;\n",
       "    }\n",
       "</style>\n",
       "<table border=\"1\" class=\"dataframe\">\n",
       "  <thead>\n",
       "    <tr style=\"text-align: right;\">\n",
       "      <th></th>\n",
       "      <th>step</th>\n",
       "      <th>amount</th>\n",
       "      <th>oldbalanceOrg</th>\n",
       "      <th>newbalanceOrig</th>\n",
       "      <th>oldbalanceDest</th>\n",
       "      <th>newbalanceDest</th>\n",
       "      <th>isFraud</th>\n",
       "      <th>isFlaggedFraud</th>\n",
       "    </tr>\n",
       "  </thead>\n",
       "  <tbody>\n",
       "    <tr>\n",
       "      <th>count</th>\n",
       "      <td>6.362620e+06</td>\n",
       "      <td>6.362620e+06</td>\n",
       "      <td>6.362620e+06</td>\n",
       "      <td>6.362620e+06</td>\n",
       "      <td>6.362620e+06</td>\n",
       "      <td>6.362620e+06</td>\n",
       "      <td>6.362620e+06</td>\n",
       "      <td>6.362620e+06</td>\n",
       "    </tr>\n",
       "    <tr>\n",
       "      <th>mean</th>\n",
       "      <td>2.433972e+02</td>\n",
       "      <td>1.798619e+05</td>\n",
       "      <td>8.338831e+05</td>\n",
       "      <td>8.551137e+05</td>\n",
       "      <td>1.100702e+06</td>\n",
       "      <td>1.224996e+06</td>\n",
       "      <td>1.290820e-03</td>\n",
       "      <td>2.514687e-06</td>\n",
       "    </tr>\n",
       "    <tr>\n",
       "      <th>std</th>\n",
       "      <td>1.423320e+02</td>\n",
       "      <td>6.038582e+05</td>\n",
       "      <td>2.888243e+06</td>\n",
       "      <td>2.924049e+06</td>\n",
       "      <td>3.399180e+06</td>\n",
       "      <td>3.674129e+06</td>\n",
       "      <td>3.590480e-02</td>\n",
       "      <td>1.585775e-03</td>\n",
       "    </tr>\n",
       "    <tr>\n",
       "      <th>min</th>\n",
       "      <td>1.000000e+00</td>\n",
       "      <td>0.000000e+00</td>\n",
       "      <td>0.000000e+00</td>\n",
       "      <td>0.000000e+00</td>\n",
       "      <td>0.000000e+00</td>\n",
       "      <td>0.000000e+00</td>\n",
       "      <td>0.000000e+00</td>\n",
       "      <td>0.000000e+00</td>\n",
       "    </tr>\n",
       "    <tr>\n",
       "      <th>25%</th>\n",
       "      <td>1.560000e+02</td>\n",
       "      <td>1.338957e+04</td>\n",
       "      <td>0.000000e+00</td>\n",
       "      <td>0.000000e+00</td>\n",
       "      <td>0.000000e+00</td>\n",
       "      <td>0.000000e+00</td>\n",
       "      <td>0.000000e+00</td>\n",
       "      <td>0.000000e+00</td>\n",
       "    </tr>\n",
       "    <tr>\n",
       "      <th>50%</th>\n",
       "      <td>2.390000e+02</td>\n",
       "      <td>7.487194e+04</td>\n",
       "      <td>1.420800e+04</td>\n",
       "      <td>0.000000e+00</td>\n",
       "      <td>1.327057e+05</td>\n",
       "      <td>2.146614e+05</td>\n",
       "      <td>0.000000e+00</td>\n",
       "      <td>0.000000e+00</td>\n",
       "    </tr>\n",
       "    <tr>\n",
       "      <th>75%</th>\n",
       "      <td>3.350000e+02</td>\n",
       "      <td>2.087215e+05</td>\n",
       "      <td>1.073152e+05</td>\n",
       "      <td>1.442584e+05</td>\n",
       "      <td>9.430367e+05</td>\n",
       "      <td>1.111909e+06</td>\n",
       "      <td>0.000000e+00</td>\n",
       "      <td>0.000000e+00</td>\n",
       "    </tr>\n",
       "    <tr>\n",
       "      <th>max</th>\n",
       "      <td>7.430000e+02</td>\n",
       "      <td>9.244552e+07</td>\n",
       "      <td>5.958504e+07</td>\n",
       "      <td>4.958504e+07</td>\n",
       "      <td>3.560159e+08</td>\n",
       "      <td>3.561793e+08</td>\n",
       "      <td>1.000000e+00</td>\n",
       "      <td>1.000000e+00</td>\n",
       "    </tr>\n",
       "  </tbody>\n",
       "</table>\n",
       "</div>"
      ],
      "text/plain": [
       "               step        amount  oldbalanceOrg  newbalanceOrig  \\\n",
       "count  6.362620e+06  6.362620e+06   6.362620e+06    6.362620e+06   \n",
       "mean   2.433972e+02  1.798619e+05   8.338831e+05    8.551137e+05   \n",
       "std    1.423320e+02  6.038582e+05   2.888243e+06    2.924049e+06   \n",
       "min    1.000000e+00  0.000000e+00   0.000000e+00    0.000000e+00   \n",
       "25%    1.560000e+02  1.338957e+04   0.000000e+00    0.000000e+00   \n",
       "50%    2.390000e+02  7.487194e+04   1.420800e+04    0.000000e+00   \n",
       "75%    3.350000e+02  2.087215e+05   1.073152e+05    1.442584e+05   \n",
       "max    7.430000e+02  9.244552e+07   5.958504e+07    4.958504e+07   \n",
       "\n",
       "       oldbalanceDest  newbalanceDest       isFraud  isFlaggedFraud  \n",
       "count    6.362620e+06    6.362620e+06  6.362620e+06    6.362620e+06  \n",
       "mean     1.100702e+06    1.224996e+06  1.290820e-03    2.514687e-06  \n",
       "std      3.399180e+06    3.674129e+06  3.590480e-02    1.585775e-03  \n",
       "min      0.000000e+00    0.000000e+00  0.000000e+00    0.000000e+00  \n",
       "25%      0.000000e+00    0.000000e+00  0.000000e+00    0.000000e+00  \n",
       "50%      1.327057e+05    2.146614e+05  0.000000e+00    0.000000e+00  \n",
       "75%      9.430367e+05    1.111909e+06  0.000000e+00    0.000000e+00  \n",
       "max      3.560159e+08    3.561793e+08  1.000000e+00    1.000000e+00  "
      ]
     },
     "execution_count": 10,
     "metadata": {},
     "output_type": "execute_result"
    }
   ],
   "source": [
    "df.describe()"
   ]
  },
  {
   "cell_type": "markdown",
   "id": "5477053c",
   "metadata": {},
   "source": [
    "ploteamos un stacked barplot para poder ver la correlación entre la variable categórica \"type\" y la variable target. "
   ]
  },
  {
   "cell_type": "code",
   "execution_count": 11,
   "id": "d2115c11",
   "metadata": {},
   "outputs": [
    {
     "data": {
      "text/html": [
       "<div>\n",
       "<style scoped>\n",
       "    .dataframe tbody tr th:only-of-type {\n",
       "        vertical-align: middle;\n",
       "    }\n",
       "\n",
       "    .dataframe tbody tr th {\n",
       "        vertical-align: top;\n",
       "    }\n",
       "\n",
       "    .dataframe thead th {\n",
       "        text-align: right;\n",
       "    }\n",
       "</style>\n",
       "<table border=\"1\" class=\"dataframe\">\n",
       "  <thead>\n",
       "    <tr style=\"text-align: right;\">\n",
       "      <th>isFraud</th>\n",
       "      <th>0</th>\n",
       "      <th>1</th>\n",
       "    </tr>\n",
       "    <tr>\n",
       "      <th>type</th>\n",
       "      <th></th>\n",
       "      <th></th>\n",
       "    </tr>\n",
       "  </thead>\n",
       "  <tbody>\n",
       "    <tr>\n",
       "      <th>CASH_IN</th>\n",
       "      <td>1399284</td>\n",
       "      <td>0</td>\n",
       "    </tr>\n",
       "    <tr>\n",
       "      <th>CASH_OUT</th>\n",
       "      <td>2233384</td>\n",
       "      <td>4116</td>\n",
       "    </tr>\n",
       "    <tr>\n",
       "      <th>DEBIT</th>\n",
       "      <td>41432</td>\n",
       "      <td>0</td>\n",
       "    </tr>\n",
       "    <tr>\n",
       "      <th>PAYMENT</th>\n",
       "      <td>2151495</td>\n",
       "      <td>0</td>\n",
       "    </tr>\n",
       "    <tr>\n",
       "      <th>TRANSFER</th>\n",
       "      <td>528812</td>\n",
       "      <td>4097</td>\n",
       "    </tr>\n",
       "  </tbody>\n",
       "</table>\n",
       "</div>"
      ],
      "text/plain": [
       "isFraud         0     1\n",
       "type                   \n",
       "CASH_IN   1399284     0\n",
       "CASH_OUT  2233384  4116\n",
       "DEBIT       41432     0\n",
       "PAYMENT   2151495     0\n",
       "TRANSFER   528812  4097"
      ]
     },
     "execution_count": 11,
     "metadata": {},
     "output_type": "execute_result"
    }
   ],
   "source": [
    "CrosstabResult= pd.crosstab(index=df['type'], columns=df['isFraud'])\n",
    "CrosstabResult"
   ]
  },
  {
   "cell_type": "code",
   "execution_count": 12,
   "id": "40c30364",
   "metadata": {},
   "outputs": [
    {
     "data": {
      "text/plain": [
       "(array([0, 1, 2, 3, 4]),\n",
       " [Text(0, 0, 'CASH_IN'),\n",
       "  Text(1, 0, 'CASH_OUT'),\n",
       "  Text(2, 0, 'DEBIT'),\n",
       "  Text(3, 0, 'PAYMENT'),\n",
       "  Text(4, 0, 'TRANSFER')])"
      ]
     },
     "execution_count": 12,
     "metadata": {},
     "output_type": "execute_result"
    },
    {
     "data": {
      "image/png": "[encoded data removed]",
      "text/plain": [
       "<Figure size 1440x720 with 1 Axes>"
      ]
     },
     "metadata": {
      "needs_background": "light"
     },
     "output_type": "display_data"
    }
   ],
   "source": [
    "CrosstabResult.plot(kind='bar', stacked=True, colormap=ListedColormap(sns.color_palette(\"husl\", 2)),\n",
    "                    figsize = (20,10))\n",
    "\n",
    "plt.title('Fraude para cada tipo de transacción')\n",
    "plt.xticks(rotation=0, ha='center')"
   ]
  },
  {
   "cell_type": "markdown",
   "id": "3b22c57b",
   "metadata": {},
   "source": [
    "La primera conclusión es que las clases están desvalanceadas, por lo tanto, vamos a tener que hacer un oversampling o undersampling. La segunda conslusión es que encontramos fraude sólo en las categorías Cash_out y Transfer. "
   ]
  },
  {
   "cell_type": "code",
   "execution_count": 47,
   "id": "79801a5b",
   "metadata": {},
   "outputs": [
    {
     "data": {
      "text/plain": [
       "<AxesSubplot:xlabel='type', ylabel='isFraud'>"
      ]
     },
     "execution_count": 47,
     "metadata": {},
     "output_type": "execute_result"
    },
    {
     "data": {
      "image/png": "[encoded data removed]",
      "text/plain": [
       "<Figure size 432x288 with 1 Axes>"
      ]
     },
     "metadata": {
      "needs_background": "light"
     },
     "output_type": "display_data"
    }
   ],
   "source": [
    "t = pd.DataFrame(df.groupby(by=df['type'])['isFraud'].sum())\n",
    "sns.barplot(data=t,x=t.index, y='isFraud')"
   ]
  },
  {
   "cell_type": "markdown",
   "id": "0189ffd6",
   "metadata": {},
   "source": [
    "En esta gráfica podemos verlo mucho más claro."
   ]
  },
  {
   "cell_type": "markdown",
   "id": "c06cde67",
   "metadata": {},
   "source": [
    "Podemos hacer algunas gráficas para ver cómo se comportan las variables con la variable target y entre si."
   ]
  },
  {
   "cell_type": "code",
   "execution_count": 51,
   "id": "b9bb1fc7",
   "metadata": {},
   "outputs": [
    {
     "data": {
      "text/plain": [
       "Text(0, 0.5, 'isFraud')"
      ]
     },
     "execution_count": 51,
     "metadata": {},
     "output_type": "execute_result"
    },
    {
     "data": {
      "image/png": "[encoded data removed]",
      "text/plain": [
       "<Figure size 1080x432 with 1 Axes>"
      ]
     },
     "metadata": {
      "needs_background": "light"
     },
     "output_type": "display_data"
    }
   ],
   "source": [
    "plt.figure(figsize=(15,6))\n",
    "plt.scatter(x='amount',y='isFraud',data=df)\n",
    "plt.xlabel('amount')\n",
    "plt.ylabel('isFraud')"
   ]
  },
  {
   "cell_type": "markdown",
   "id": "08cae33c",
   "metadata": {},
   "source": [
    "Esta gráfica es interesante porque podemos ver que los fraudes se dan en cantidades no muy grandes de dinero."
   ]
  },
  {
   "cell_type": "code",
   "execution_count": 54,
   "id": "4c976944",
   "metadata": {},
   "outputs": [
    {
     "data": {
      "text/plain": [
       "Text(0, 0.5, 'type')"
      ]
     },
     "execution_count": 54,
     "metadata": {},
     "output_type": "execute_result"
    },
    {
     "data": {
      "image/png": "[encoded data removed]",
      "text/plain": [
       "<Figure size 1080x432 with 1 Axes>"
      ]
     },
     "metadata": {
      "needs_background": "light"
     },
     "output_type": "display_data"
    }
   ],
   "source": [
    "plt.figure(figsize=(15,6))\n",
    "plt.scatter(x='amount',y='type',data=df)\n",
    "plt.xlabel('amount')\n",
    "plt.ylabel('type')"
   ]
  },
  {
   "cell_type": "markdown",
   "id": "54707491",
   "metadata": {},
   "source": [
    "En esta gráfica vemos que las cantidades de dinero mas pequeñas se mueven en payments, cash_out, debit y cash_in; la que más se mueve de estas es cash_out junto con Transfer que son los dos tipos donde más suceden fraudes. "
   ]
  },
  {
   "cell_type": "code",
   "execution_count": 55,
   "id": "d801261a",
   "metadata": {},
   "outputs": [
    {
     "data": {
      "text/plain": [
       "Text(0, 0.5, 'step')"
      ]
     },
     "execution_count": 55,
     "metadata": {},
     "output_type": "execute_result"
    },
    {
     "data": {
      "image/png": "[encoded data removed]",
      "text/plain": [
       "<Figure size 1080x432 with 1 Axes>"
      ]
     },
     "metadata": {
      "needs_background": "light"
     },
     "output_type": "display_data"
    }
   ],
   "source": [
    "plt.figure(figsize=(15,6))\n",
    "plt.scatter(x='amount',y='step',data=df)\n",
    "plt.xlabel('amount')\n",
    "plt.ylabel('step')"
   ]
  },
  {
   "cell_type": "markdown",
   "id": "fb97b90e",
   "metadata": {},
   "source": [
    "Acá podemos observar que para las mayores cantidades de dinero el valor de step es aproximandamente 300 -350. Lo que quiere decir que no sostienen una relación lineal como uno podría imaginar. También puede suceder que los steps por encima de 400 sean casos de procedimientos atípicos y que en 300 sea un techo de \"normalidad\". "
   ]
  },
  {
   "cell_type": "markdown",
   "id": "dcd72769",
   "metadata": {},
   "source": [
    "Calculamos el coeficiente de Kendall para analizar la correlación entre las variables numéricas y la variable Target (categórica)."
   ]
  },
  {
   "cell_type": "code",
   "execution_count": 57,
   "id": "638b8f40",
   "metadata": {},
   "outputs": [
    {
     "data": {
      "image/png": "[encoded data removed]",
      "text/plain": [
       "<Figure size 1584x576 with 2 Axes>"
      ]
     },
     "metadata": {
      "needs_background": "light"
     },
     "output_type": "display_data"
    }
   ],
   "source": [
    "fig, axes = plt.subplots(1,1,figsize=(22,8))\n",
    "\n",
    "tau = df.corr(method='kendall')\n",
    "axes.set_title(\"Kendall\")\n",
    "sns.heatmap(tau, cmap=sns.diverging_palette(220,10,as_cmap=True),annot=True,fmt=\".2f\")\n",
    "sns.set(font_scale=0.9)"
   ]
  },
  {
   "cell_type": "markdown",
   "id": "5a3eeef1",
   "metadata": {},
   "source": [
    "La variable \"isFraud\" tiene correlaciones muy bajas con las variables numéricas. En ese caso es preferible dejarlas todas antes de descartar alguna y ver como se comporta el modelo. Quizás lo conveniente es usar PCA y mantener los componentes que mantengan un 90% de la varianza. "
   ]
  },
  {
   "cell_type": "markdown",
   "id": "4bd502df",
   "metadata": {},
   "source": [
    "## Codificiación Variables Categóricas"
   ]
  },
  {
   "cell_type": "markdown",
   "id": "053b66c5",
   "metadata": {},
   "source": [
    "De las 5 variables categóricas, sólo codificamos \"type\". Las variables categóricas relacionadas con nombres de cuentas las dropeamos y nuestra variable target \"isFraud\" la dejamos como está. \n",
    "\n",
    "Hacemos un One Hot Encoding para Type. "
   ]
  },
  {
   "cell_type": "code",
   "execution_count": 13,
   "id": "6e651e16",
   "metadata": {},
   "outputs": [],
   "source": [
    "type_new = pd.get_dummies(df['type'])\n",
    "df = pd.concat([df,type_new],axis=1)"
   ]
  },
  {
   "cell_type": "code",
   "execution_count": 14,
   "id": "82e7e3ba",
   "metadata": {},
   "outputs": [
    {
     "data": {
      "text/html": [
       "<div>\n",
       "<style scoped>\n",
       "    .dataframe tbody tr th:only-of-type {\n",
       "        vertical-align: middle;\n",
       "    }\n",
       "\n",
       "    .dataframe tbody tr th {\n",
       "        vertical-align: top;\n",
       "    }\n",
       "\n",
       "    .dataframe thead th {\n",
       "        text-align: right;\n",
       "    }\n",
       "</style>\n",
       "<table border=\"1\" class=\"dataframe\">\n",
       "  <thead>\n",
       "    <tr style=\"text-align: right;\">\n",
       "      <th></th>\n",
       "      <th>step</th>\n",
       "      <th>type</th>\n",
       "      <th>amount</th>\n",
       "      <th>nameOrig</th>\n",
       "      <th>oldbalanceOrg</th>\n",
       "      <th>newbalanceOrig</th>\n",
       "      <th>nameDest</th>\n",
       "      <th>oldbalanceDest</th>\n",
       "      <th>newbalanceDest</th>\n",
       "      <th>isFraud</th>\n",
       "      <th>isFlaggedFraud</th>\n",
       "      <th>CASH_IN</th>\n",
       "      <th>CASH_OUT</th>\n",
       "      <th>DEBIT</th>\n",
       "      <th>PAYMENT</th>\n",
       "      <th>TRANSFER</th>\n",
       "    </tr>\n",
       "  </thead>\n",
       "  <tbody>\n",
       "    <tr>\n",
       "      <th>0</th>\n",
       "      <td>1</td>\n",
       "      <td>PAYMENT</td>\n",
       "      <td>9839.64</td>\n",
       "      <td>C1231006815</td>\n",
       "      <td>170136.0</td>\n",
       "      <td>160296.36</td>\n",
       "      <td>M1979787155</td>\n",
       "      <td>0.0</td>\n",
       "      <td>0.0</td>\n",
       "      <td>0</td>\n",
       "      <td>0</td>\n",
       "      <td>0</td>\n",
       "      <td>0</td>\n",
       "      <td>0</td>\n",
       "      <td>1</td>\n",
       "      <td>0</td>\n",
       "    </tr>\n",
       "    <tr>\n",
       "      <th>1</th>\n",
       "      <td>1</td>\n",
       "      <td>PAYMENT</td>\n",
       "      <td>1864.28</td>\n",
       "      <td>C1666544295</td>\n",
       "      <td>21249.0</td>\n",
       "      <td>19384.72</td>\n",
       "      <td>M2044282225</td>\n",
       "      <td>0.0</td>\n",
       "      <td>0.0</td>\n",
       "      <td>0</td>\n",
       "      <td>0</td>\n",
       "      <td>0</td>\n",
       "      <td>0</td>\n",
       "      <td>0</td>\n",
       "      <td>1</td>\n",
       "      <td>0</td>\n",
       "    </tr>\n",
       "    <tr>\n",
       "      <th>2</th>\n",
       "      <td>1</td>\n",
       "      <td>TRANSFER</td>\n",
       "      <td>181.00</td>\n",
       "      <td>C1305486145</td>\n",
       "      <td>181.0</td>\n",
       "      <td>0.00</td>\n",
       "      <td>C553264065</td>\n",
       "      <td>0.0</td>\n",
       "      <td>0.0</td>\n",
       "      <td>1</td>\n",
       "      <td>0</td>\n",
       "      <td>0</td>\n",
       "      <td>0</td>\n",
       "      <td>0</td>\n",
       "      <td>0</td>\n",
       "      <td>1</td>\n",
       "    </tr>\n",
       "    <tr>\n",
       "      <th>3</th>\n",
       "      <td>1</td>\n",
       "      <td>CASH_OUT</td>\n",
       "      <td>181.00</td>\n",
       "      <td>C840083671</td>\n",
       "      <td>181.0</td>\n",
       "      <td>0.00</td>\n",
       "      <td>C38997010</td>\n",
       "      <td>21182.0</td>\n",
       "      <td>0.0</td>\n",
       "      <td>1</td>\n",
       "      <td>0</td>\n",
       "      <td>0</td>\n",
       "      <td>1</td>\n",
       "      <td>0</td>\n",
       "      <td>0</td>\n",
       "      <td>0</td>\n",
       "    </tr>\n",
       "    <tr>\n",
       "      <th>4</th>\n",
       "      <td>1</td>\n",
       "      <td>PAYMENT</td>\n",
       "      <td>11668.14</td>\n",
       "      <td>C2048537720</td>\n",
       "      <td>41554.0</td>\n",
       "      <td>29885.86</td>\n",
       "      <td>M1230701703</td>\n",
       "      <td>0.0</td>\n",
       "      <td>0.0</td>\n",
       "      <td>0</td>\n",
       "      <td>0</td>\n",
       "      <td>0</td>\n",
       "      <td>0</td>\n",
       "      <td>0</td>\n",
       "      <td>1</td>\n",
       "      <td>0</td>\n",
       "    </tr>\n",
       "  </tbody>\n",
       "</table>\n",
       "</div>"
      ],
      "text/plain": [
       "   step      type    amount     nameOrig  oldbalanceOrg  newbalanceOrig  \\\n",
       "0     1   PAYMENT   9839.64  C1231006815       170136.0       160296.36   \n",
       "1     1   PAYMENT   1864.28  C1666544295        21249.0        19384.72   \n",
       "2     1  TRANSFER    181.00  C1305486145          181.0            0.00   \n",
       "3     1  CASH_OUT    181.00   C840083671          181.0            0.00   \n",
       "4     1   PAYMENT  11668.14  C2048537720        41554.0        29885.86   \n",
       "\n",
       "      nameDest  oldbalanceDest  newbalanceDest  isFraud  isFlaggedFraud  \\\n",
       "0  M1979787155             0.0             0.0        0               0   \n",
       "1  M2044282225             0.0             0.0        0               0   \n",
       "2   C553264065             0.0             0.0        1               0   \n",
       "3    C38997010         21182.0             0.0        1               0   \n",
       "4  M1230701703             0.0             0.0        0               0   \n",
       "\n",
       "   CASH_IN  CASH_OUT  DEBIT  PAYMENT  TRANSFER  \n",
       "0        0         0      0        1         0  \n",
       "1        0         0      0        1         0  \n",
       "2        0         0      0        0         1  \n",
       "3        0         1      0        0         0  \n",
       "4        0         0      0        1         0  "
      ]
     },
     "execution_count": 14,
     "metadata": {},
     "output_type": "execute_result"
    }
   ],
   "source": [
    "df.head()"
   ]
  },
  {
   "cell_type": "markdown",
   "id": "cd318121",
   "metadata": {},
   "source": [
    "Armamos nuestro X e y para pasar al balanceo de Clases."
   ]
  },
  {
   "cell_type": "code",
   "execution_count": 15,
   "id": "9270b307",
   "metadata": {},
   "outputs": [],
   "source": [
    "X = df[['step', 'amount', 'oldbalanceOrg', 'newbalanceOrig', 'oldbalanceDest', 'newbalanceDest', 'CASH_IN', \n",
    "      'CASH_OUT', 'DEBIT', 'PAYMENT', 'TRANSFER']]\n",
    "y = df['isFraud']"
   ]
  },
  {
   "cell_type": "code",
   "execution_count": 16,
   "id": "7d90387e",
   "metadata": {},
   "outputs": [
    {
     "data": {
      "text/html": [
       "<div>\n",
       "<style scoped>\n",
       "    .dataframe tbody tr th:only-of-type {\n",
       "        vertical-align: middle;\n",
       "    }\n",
       "\n",
       "    .dataframe tbody tr th {\n",
       "        vertical-align: top;\n",
       "    }\n",
       "\n",
       "    .dataframe thead th {\n",
       "        text-align: right;\n",
       "    }\n",
       "</style>\n",
       "<table border=\"1\" class=\"dataframe\">\n",
       "  <thead>\n",
       "    <tr style=\"text-align: right;\">\n",
       "      <th></th>\n",
       "      <th>step</th>\n",
       "      <th>amount</th>\n",
       "      <th>oldbalanceOrg</th>\n",
       "      <th>newbalanceOrig</th>\n",
       "      <th>oldbalanceDest</th>\n",
       "      <th>newbalanceDest</th>\n",
       "      <th>CASH_IN</th>\n",
       "      <th>CASH_OUT</th>\n",
       "      <th>DEBIT</th>\n",
       "      <th>PAYMENT</th>\n",
       "      <th>TRANSFER</th>\n",
       "    </tr>\n",
       "  </thead>\n",
       "  <tbody>\n",
       "    <tr>\n",
       "      <th>0</th>\n",
       "      <td>1</td>\n",
       "      <td>9839.64</td>\n",
       "      <td>170136.0</td>\n",
       "      <td>160296.36</td>\n",
       "      <td>0.0</td>\n",
       "      <td>0.0</td>\n",
       "      <td>0</td>\n",
       "      <td>0</td>\n",
       "      <td>0</td>\n",
       "      <td>1</td>\n",
       "      <td>0</td>\n",
       "    </tr>\n",
       "    <tr>\n",
       "      <th>1</th>\n",
       "      <td>1</td>\n",
       "      <td>1864.28</td>\n",
       "      <td>21249.0</td>\n",
       "      <td>19384.72</td>\n",
       "      <td>0.0</td>\n",
       "      <td>0.0</td>\n",
       "      <td>0</td>\n",
       "      <td>0</td>\n",
       "      <td>0</td>\n",
       "      <td>1</td>\n",
       "      <td>0</td>\n",
       "    </tr>\n",
       "    <tr>\n",
       "      <th>2</th>\n",
       "      <td>1</td>\n",
       "      <td>181.00</td>\n",
       "      <td>181.0</td>\n",
       "      <td>0.00</td>\n",
       "      <td>0.0</td>\n",
       "      <td>0.0</td>\n",
       "      <td>0</td>\n",
       "      <td>0</td>\n",
       "      <td>0</td>\n",
       "      <td>0</td>\n",
       "      <td>1</td>\n",
       "    </tr>\n",
       "    <tr>\n",
       "      <th>3</th>\n",
       "      <td>1</td>\n",
       "      <td>181.00</td>\n",
       "      <td>181.0</td>\n",
       "      <td>0.00</td>\n",
       "      <td>21182.0</td>\n",
       "      <td>0.0</td>\n",
       "      <td>0</td>\n",
       "      <td>1</td>\n",
       "      <td>0</td>\n",
       "      <td>0</td>\n",
       "      <td>0</td>\n",
       "    </tr>\n",
       "    <tr>\n",
       "      <th>4</th>\n",
       "      <td>1</td>\n",
       "      <td>11668.14</td>\n",
       "      <td>41554.0</td>\n",
       "      <td>29885.86</td>\n",
       "      <td>0.0</td>\n",
       "      <td>0.0</td>\n",
       "      <td>0</td>\n",
       "      <td>0</td>\n",
       "      <td>0</td>\n",
       "      <td>1</td>\n",
       "      <td>0</td>\n",
       "    </tr>\n",
       "  </tbody>\n",
       "</table>\n",
       "</div>"
      ],
      "text/plain": [
       "   step    amount  oldbalanceOrg  newbalanceOrig  oldbalanceDest  \\\n",
       "0     1   9839.64       170136.0       160296.36             0.0   \n",
       "1     1   1864.28        21249.0        19384.72             0.0   \n",
       "2     1    181.00          181.0            0.00             0.0   \n",
       "3     1    181.00          181.0            0.00         21182.0   \n",
       "4     1  11668.14        41554.0        29885.86             0.0   \n",
       "\n",
       "   newbalanceDest  CASH_IN  CASH_OUT  DEBIT  PAYMENT  TRANSFER  \n",
       "0             0.0        0         0      0        1         0  \n",
       "1             0.0        0         0      0        1         0  \n",
       "2             0.0        0         0      0        0         1  \n",
       "3             0.0        0         1      0        0         0  \n",
       "4             0.0        0         0      0        1         0  "
      ]
     },
     "execution_count": 16,
     "metadata": {},
     "output_type": "execute_result"
    }
   ],
   "source": [
    "X.head()"
   ]
  },
  {
   "cell_type": "code",
   "execution_count": 17,
   "id": "35ff56b1",
   "metadata": {},
   "outputs": [
    {
     "data": {
      "text/plain": [
       "0    0\n",
       "1    0\n",
       "2    1\n",
       "3    1\n",
       "4    0\n",
       "Name: isFraud, dtype: int64"
      ]
     },
     "execution_count": 17,
     "metadata": {},
     "output_type": "execute_result"
    }
   ],
   "source": [
    "y.head()"
   ]
  },
  {
   "cell_type": "markdown",
   "id": "64cb4976",
   "metadata": {},
   "source": [
    "## Balanceo de Clases\n",
    "\n",
    "Revisamos que cantidad de datos tenemos para cada clase"
   ]
  },
  {
   "cell_type": "code",
   "execution_count": 18,
   "id": "18ad86f8",
   "metadata": {},
   "outputs": [
    {
     "name": "stdout",
     "output_type": "stream",
     "text": [
      "0    6354407\n",
      "1       8213\n",
      "Name: isFraud, dtype: int64\n"
     ]
    }
   ],
   "source": [
    "fraud_counts = y.value_counts()\n",
    "print(fraud_counts)"
   ]
  },
  {
   "cell_type": "markdown",
   "id": "e782d332",
   "metadata": {},
   "source": [
    "Dado que el dataset es bastante amplio y la diferencia entre las clases es bastante, creo que lo mejor es hacer un undersampling. Con esto disminuímos la cantidad de muestras y evitamos que se ponga 'raro' el dataset al querer equiparar las muestras minoritarias con las mayoritarias.\n",
    "\n",
    "Dividimos el dataset en train y test para luego aplicar el undersampling."
   ]
  },
  {
   "cell_type": "code",
   "execution_count": 113,
   "id": "f410601c",
   "metadata": {},
   "outputs": [],
   "source": [
    "X_train, X_test, y_train, y_test = train_test_split(X, y, test_size = 0.20, random_state = 2, stratify=y)"
   ]
  },
  {
   "cell_type": "code",
   "execution_count": 115,
   "id": "c81b9cc5",
   "metadata": {},
   "outputs": [
    {
     "name": "stdout",
     "output_type": "stream",
     "text": [
      "Entrenamiento: (5090096, 11)\n",
      "Testeo: (1272524, 11)\n",
      "\n",
      "Clases train:\n",
      "0    0.998709\n",
      "1    0.001291\n",
      "Name: isFraud, dtype: float64\n",
      "\n",
      "Clases test:\n",
      "0    0.998709\n",
      "1    0.001291\n",
      "Name: isFraud, dtype: float64\n"
     ]
    }
   ],
   "source": [
    "print('Entrenamiento:',X_train.shape)\n",
    "print('Testeo:',X_test.shape)\n",
    "print('\\nClases train:')\n",
    "print(y_train.value_counts(normalize=True))\n",
    "print('\\nClases test:')\n",
    "print(y_test.value_counts(normalize=True))"
   ]
  },
  {
   "cell_type": "code",
   "execution_count": 116,
   "id": "81db67c4",
   "metadata": {},
   "outputs": [
    {
     "name": "stdout",
     "output_type": "stream",
     "text": [
      "Composición del training set:\n",
      "0    6570\n",
      "1    6570\n",
      "Name: isFraud, dtype: int64\n",
      "\n",
      "Composición del test set:\n",
      "0    1270881\n",
      "1       1643\n",
      "Name: isFraud, dtype: int64\n"
     ]
    }
   ],
   "source": [
    "from imblearn.under_sampling import RandomUnderSampler\n",
    "\n",
    "undersampler=RandomUnderSampler(sampling_strategy='majority');\n",
    "\n",
    "X_train_us,y_train_us=undersampler.fit_resample(X_train,y_train);\n",
    "\n",
    "print('Composición del training set:')\n",
    "print(y_train_us.value_counts())\n",
    "\n",
    "print('\\nComposición del test set:')\n",
    "print(y_test.value_counts())"
   ]
  },
  {
   "cell_type": "markdown",
   "id": "8b0ef426",
   "metadata": {},
   "source": [
    "### PCA"
   ]
  },
  {
   "cell_type": "markdown",
   "id": "58330041",
   "metadata": {},
   "source": [
    "Teniendo ya nuestro dataset balanceado, aplicamos PCA para reducir dimensiones y mantener el 90% de la varianza. "
   ]
  },
  {
   "cell_type": "code",
   "execution_count": 117,
   "id": "2857a684",
   "metadata": {},
   "outputs": [],
   "source": [
    "scaler = StandardScaler()\n",
    "scaler_x = scaler.fit(X_train_us)\n",
    "x_train_us_scaled = scaler_x.transform(X_train_us)\n",
    "x_test_us_scaled = scaler_x.transform(X_test)"
   ]
  },
  {
   "cell_type": "code",
   "execution_count": 118,
   "id": "70c25457",
   "metadata": {},
   "outputs": [],
   "source": [
    "pca = PCA(n_components=0.9, random_state=2).fit(x_train_us_scaled)\n",
    "x_train_us_pca = pca.transform(x_train_us_scaled)\n",
    "x_test_us_pca = pca.transform(x_test_us_scaled)"
   ]
  },
  {
   "cell_type": "code",
   "execution_count": 119,
   "id": "94c04d71",
   "metadata": {},
   "outputs": [
    {
     "data": {
      "text/plain": [
       "7"
      ]
     },
     "execution_count": 119,
     "metadata": {},
     "output_type": "execute_result"
    }
   ],
   "source": [
    "x_train_us_pca.shape[1]"
   ]
  },
  {
   "cell_type": "markdown",
   "id": "a30b6f4f",
   "metadata": {},
   "source": [
    "Pasamos de tener 11 variables a quedarnos con 7 componentes principales."
   ]
  },
  {
   "cell_type": "code",
   "execution_count": 120,
   "id": "2f03e98e",
   "metadata": {},
   "outputs": [
    {
     "data": {
      "image/png": "[encoded data removed]",
      "text/plain": [
       "<Figure size 720x504 with 1 Axes>"
      ]
     },
     "metadata": {
      "needs_background": "light"
     },
     "output_type": "display_data"
    }
   ],
   "source": [
    "pca_2 = PCA(n_components=11, random_state=2).fit(x_train_us_scaled)\n",
    "\n",
    "plt.figure(figsize=(10,7))\n",
    "plt.plot(np.cumsum(pca_2.explained_variance_ratio_), color='k', lw=2)\n",
    "plt.xlabel('Cantidad de componentes')\n",
    "plt.ylabel('Total varianza contemplada')\n",
    "plt.xlim(0, 10)\n",
    "plt.yticks(np.arange(0, 1.1, 0.1))\n",
    "plt.axvline(7, c='b')\n",
    "plt.axhline(0.9, c='r')\n",
    "plt.show();"
   ]
  },
  {
   "cell_type": "markdown",
   "id": "0dbeed2d",
   "metadata": {},
   "source": [
    "Con 7 componentes nos quedamos con un poco más del 90%. Veamos como se comportan los modelos."
   ]
  },
  {
   "cell_type": "markdown",
   "id": "51bc1692",
   "metadata": {},
   "source": [
    "## MODELOS"
   ]
  },
  {
   "cell_type": "markdown",
   "id": "4eed44cc",
   "metadata": {},
   "source": [
    "### 1. Regresión Logística + Lasso"
   ]
  },
  {
   "cell_type": "code",
   "execution_count": 121,
   "id": "542a502f",
   "metadata": {},
   "outputs": [
    {
     "name": "stdout",
     "output_type": "stream",
     "text": [
      "-- Epoch 1\n",
      "Norm: 56.59, NNZs: 6, Bias: -9.208205, T: 13140, Avg. loss: 1.498324\n",
      "Total training time: 0.01 seconds.\n",
      "-- Epoch 2\n",
      "Norm: 59.09, NNZs: 7, Bias: -9.810058, T: 26280, Avg. loss: 0.666214\n",
      "Total training time: 0.01 seconds.\n",
      "-- Epoch 3\n",
      "Norm: 59.22, NNZs: 7, Bias: -7.642382, T: 39420, Avg. loss: 0.434524\n",
      "Total training time: 0.01 seconds.\n",
      "-- Epoch 4\n",
      "Norm: 59.52, NNZs: 7, Bias: -7.599527, T: 52560, Avg. loss: 0.465639\n",
      "Total training time: 0.02 seconds.\n",
      "-- Epoch 5\n",
      "Norm: 59.58, NNZs: 7, Bias: -7.496767, T: 65700, Avg. loss: 0.430395\n",
      "Total training time: 0.02 seconds.\n",
      "-- Epoch 6\n",
      "Norm: 59.55, NNZs: 7, Bias: -7.110062, T: 78840, Avg. loss: 0.364344\n",
      "Total training time: 0.02 seconds.\n",
      "-- Epoch 7\n",
      "Norm: 59.63, NNZs: 7, Bias: -6.770128, T: 91980, Avg. loss: 0.360365\n",
      "Total training time: 0.02 seconds.\n",
      "-- Epoch 8\n",
      "Norm: 59.57, NNZs: 7, Bias: -7.084565, T: 105120, Avg. loss: 0.396059\n",
      "Total training time: 0.03 seconds.\n",
      "-- Epoch 9\n",
      "Norm: 59.61, NNZs: 7, Bias: -6.511514, T: 118260, Avg. loss: 0.357692\n",
      "Total training time: 0.03 seconds.\n",
      "-- Epoch 10\n",
      "Norm: 59.60, NNZs: 7, Bias: -6.722228, T: 131400, Avg. loss: 0.379439\n",
      "Total training time: 0.03 seconds.\n",
      "-- Epoch 11\n",
      "Norm: 59.58, NNZs: 7, Bias: -6.549783, T: 144540, Avg. loss: 0.349601\n",
      "Total training time: 0.04 seconds.\n",
      "-- Epoch 12\n",
      "Norm: 59.62, NNZs: 7, Bias: -6.226530, T: 157680, Avg. loss: 0.344529\n",
      "Total training time: 0.04 seconds.\n",
      "-- Epoch 13\n",
      "Norm: 59.61, NNZs: 7, Bias: -6.216279, T: 170820, Avg. loss: 0.368495\n",
      "Total training time: 0.04 seconds.\n",
      "-- Epoch 14\n",
      "Norm: 59.61, NNZs: 7, Bias: -6.221539, T: 183960, Avg. loss: 0.365063\n",
      "Total training time: 0.05 seconds.\n",
      "-- Epoch 15\n",
      "Norm: 59.58, NNZs: 7, Bias: -6.107452, T: 197100, Avg. loss: 0.362614\n",
      "Total training time: 0.05 seconds.\n",
      "-- Epoch 16\n",
      "Norm: 59.62, NNZs: 7, Bias: -5.864639, T: 210240, Avg. loss: 0.362968\n",
      "Total training time: 0.05 seconds.\n",
      "-- Epoch 17\n",
      "Norm: 59.61, NNZs: 7, Bias: -5.898027, T: 223380, Avg. loss: 0.361743\n",
      "Total training time: 0.05 seconds.\n",
      "Convergence after 17 epochs took 0.05 seconds\n"
     ]
    },
    {
     "data": {
      "text/plain": [
       "SGDClassifier(l1_ratio=0.02, loss='log', max_iter=10000, penalty='l1',\n",
       "              verbose=1)"
      ]
     },
     "execution_count": 121,
     "metadata": {},
     "output_type": "execute_result"
    }
   ],
   "source": [
    "rg = SGDClassifier(loss = 'log', l1_ratio=0.02, verbose=1, penalty='l1', max_iter=10000)\n",
    "rg.fit(x_train_us_pca, y_train_us)"
   ]
  },
  {
   "cell_type": "markdown",
   "id": "a06c79ad",
   "metadata": {},
   "source": [
    "Calculamos el intercept y el slope para determinar bordes de desición."
   ]
  },
  {
   "cell_type": "code",
   "execution_count": 122,
   "id": "facd34b5",
   "metadata": {},
   "outputs": [
    {
     "name": "stdout",
     "output_type": "stream",
     "text": [
      "[2.6320366]\n",
      "-1.851964538894919\n"
     ]
    }
   ],
   "source": [
    "intercept = -(rg.intercept_/rg.coef_[0][1])\n",
    "print(intercept)\n",
    "\n",
    "slope = -(rg.coef_[0][0]/ rg.coef_[0][1])\n",
    "print(slope)"
   ]
  },
  {
   "cell_type": "code",
   "execution_count": 123,
   "id": "77db9447",
   "metadata": {},
   "outputs": [
    {
     "data": {
      "image/png": "[encoded data removed]",
      "text/plain": [
       "<Figure size 720x576 with 1 Axes>"
      ]
     },
     "metadata": {
      "needs_background": "light"
     },
     "output_type": "display_data"
    }
   ],
   "source": [
    "plt.figure(figsize=(10,8))\n",
    "plt.scatter(x_train_us_pca[:, 2], x_train_us_pca[:, 3], c=y_train_us[:])\n",
    "y_vals = intercept + (slope * x_train_us_pca[:, 0])\n",
    "plt.plot(x_train_us_pca[:, 0], y_vals, c=\"k\")\n",
    "plt.title('Decision Boundary')\n",
    "plt.ylim((-30, 60))\n",
    "plt.show()"
   ]
  },
  {
   "cell_type": "code",
   "execution_count": 124,
   "id": "23bc90a6",
   "metadata": {},
   "outputs": [],
   "source": [
    "pred = rg.predict(x_test_us_pca)"
   ]
  },
  {
   "cell_type": "code",
   "execution_count": 125,
   "id": "4eee3b46",
   "metadata": {},
   "outputs": [
    {
     "data": {
      "text/plain": [
       "0.004964524547382157"
      ]
     },
     "execution_count": 125,
     "metadata": {},
     "output_type": "execute_result"
    }
   ],
   "source": [
    "precision = precision_score(y_test, pred)\n",
    "precision"
   ]
  },
  {
   "cell_type": "code",
   "execution_count": 126,
   "id": "2085087e",
   "metadata": {},
   "outputs": [
    {
     "name": "stdout",
     "output_type": "stream",
     "text": [
      "              precision    recall  f1-score   support\n",
      "\n",
      "           0       1.00      0.77      0.87   1270881\n",
      "           1       0.00      0.89      0.01      1643\n",
      "\n",
      "    accuracy                           0.77   1272524\n",
      "   macro avg       0.50      0.83      0.44   1272524\n",
      "weighted avg       1.00      0.77      0.87   1272524\n",
      "\n"
     ]
    }
   ],
   "source": [
    "print(classification_report(y_test,pred))"
   ]
  },
  {
   "cell_type": "markdown",
   "id": "c2afcf8e",
   "metadata": {},
   "source": [
    "Probemos ahora con Ridge"
   ]
  },
  {
   "cell_type": "code",
   "execution_count": 127,
   "id": "2fd52b49",
   "metadata": {},
   "outputs": [
    {
     "name": "stdout",
     "output_type": "stream",
     "text": [
      "-- Epoch 1\n",
      "Norm: 8.93, NNZs: 7, Bias: -2.511867, T: 13140, Avg. loss: 1.954557\n",
      "Total training time: 0.00 seconds.\n",
      "-- Epoch 2\n",
      "Norm: 6.55, NNZs: 7, Bias: -0.818878, T: 26280, Avg. loss: 0.769226\n",
      "Total training time: 0.00 seconds.\n",
      "-- Epoch 3\n",
      "Norm: 4.82, NNZs: 7, Bias: -1.461286, T: 39420, Avg. loss: 0.549880\n",
      "Total training time: 0.01 seconds.\n",
      "-- Epoch 4\n",
      "Norm: 6.38, NNZs: 7, Bias: -0.922097, T: 52560, Avg. loss: 0.483926\n",
      "Total training time: 0.01 seconds.\n",
      "-- Epoch 5\n",
      "Norm: 4.69, NNZs: 7, Bias: -1.149594, T: 65700, Avg. loss: 0.435876\n",
      "Total training time: 0.01 seconds.\n",
      "-- Epoch 6\n",
      "Norm: 4.37, NNZs: 7, Bias: -0.420017, T: 78840, Avg. loss: 0.414125\n",
      "Total training time: 0.01 seconds.\n",
      "-- Epoch 7\n",
      "Norm: 4.40, NNZs: 7, Bias: -0.666739, T: 91980, Avg. loss: 0.405550\n",
      "Total training time: 0.01 seconds.\n",
      "-- Epoch 8\n",
      "Norm: 4.52, NNZs: 7, Bias: -0.872615, T: 105120, Avg. loss: 0.391222\n",
      "Total training time: 0.02 seconds.\n",
      "-- Epoch 9\n",
      "Norm: 4.69, NNZs: 7, Bias: -0.454789, T: 118260, Avg. loss: 0.383895\n",
      "Total training time: 0.02 seconds.\n",
      "-- Epoch 10\n",
      "Norm: 4.31, NNZs: 7, Bias: -0.769955, T: 131400, Avg. loss: 0.353910\n",
      "Total training time: 0.02 seconds.\n",
      "-- Epoch 11\n",
      "Norm: 4.33, NNZs: 7, Bias: -0.597890, T: 144540, Avg. loss: 0.348703\n",
      "Total training time: 0.02 seconds.\n",
      "-- Epoch 12\n",
      "Norm: 4.08, NNZs: 7, Bias: -0.579972, T: 157680, Avg. loss: 0.368529\n",
      "Total training time: 0.03 seconds.\n",
      "-- Epoch 13\n",
      "Norm: 3.72, NNZs: 7, Bias: -0.693830, T: 170820, Avg. loss: 0.369553\n",
      "Total training time: 0.03 seconds.\n",
      "-- Epoch 14\n",
      "Norm: 3.74, NNZs: 7, Bias: -0.864786, T: 183960, Avg. loss: 0.364102\n",
      "Total training time: 0.03 seconds.\n",
      "-- Epoch 15\n",
      "Norm: 4.20, NNZs: 7, Bias: -0.669675, T: 197100, Avg. loss: 0.362293\n",
      "Total training time: 0.03 seconds.\n",
      "-- Epoch 16\n",
      "Norm: 3.77, NNZs: 7, Bias: -0.590966, T: 210240, Avg. loss: 0.362142\n",
      "Total training time: 0.04 seconds.\n",
      "Convergence after 16 epochs took 0.04 seconds\n"
     ]
    },
    {
     "data": {
      "text/plain": [
       "SGDClassifier(l1_ratio=0.01, loss='log', max_iter=10000, verbose=1)"
      ]
     },
     "execution_count": 127,
     "metadata": {},
     "output_type": "execute_result"
    }
   ],
   "source": [
    "rg_R = SGDClassifier(loss = 'log', l1_ratio=0.01, verbose=1, penalty='l2', max_iter=10000)\n",
    "rg_R.fit(x_train_us_pca, y_train_us)"
   ]
  },
  {
   "cell_type": "markdown",
   "id": "2dbde2fe",
   "metadata": {},
   "source": [
    "Calculamos el intercept y el slope para determinar bordes de desición."
   ]
  },
  {
   "cell_type": "code",
   "execution_count": 128,
   "id": "801fe632",
   "metadata": {},
   "outputs": [
    {
     "name": "stdout",
     "output_type": "stream",
     "text": [
      "[1.14072986]\n",
      "-2.71842610543651\n"
     ]
    }
   ],
   "source": [
    "intercept_R = -(rg_R.intercept_/rg_R.coef_[0][1])\n",
    "print(intercept_R)\n",
    "\n",
    "slope_R = -(rg_R.coef_[0][0]/ rg_R.coef_[0][1])\n",
    "print(slope_R)"
   ]
  },
  {
   "cell_type": "code",
   "execution_count": 129,
   "id": "a88c356b",
   "metadata": {},
   "outputs": [
    {
     "data": {
      "image/png": "[encoded data removed]",
      "text/plain": [
       "<Figure size 864x720 with 1 Axes>"
      ]
     },
     "metadata": {
      "needs_background": "light"
     },
     "output_type": "display_data"
    }
   ],
   "source": [
    "plt.figure(figsize=(12,10))\n",
    "plt.scatter(x_train_us_pca[:, 2], x_train_us_pca[:, 3], c=y_train_us[:])\n",
    "y_vals_2 = intercept_R + (slope_R * x_train_us_pca[:, 0])\n",
    "plt.plot(x_train_us_pca[:, 0], y_vals_2, c=\"k\")\n",
    "plt.title('Decision Boundary')\n",
    "plt.ylim((-30, 60))\n",
    "plt.show()"
   ]
  },
  {
   "cell_type": "code",
   "execution_count": 130,
   "id": "80dcd6d7",
   "metadata": {},
   "outputs": [],
   "source": [
    "pred_R = rg_R.predict(x_test_us_pca)"
   ]
  },
  {
   "cell_type": "code",
   "execution_count": 131,
   "id": "bbda41fd",
   "metadata": {},
   "outputs": [
    {
     "data": {
      "text/plain": [
       "0.0040138083446073355"
      ]
     },
     "execution_count": 131,
     "metadata": {},
     "output_type": "execute_result"
    }
   ],
   "source": [
    "precision_R = precision_score(y_test, pred_R)\n",
    "precision_R"
   ]
  },
  {
   "cell_type": "code",
   "execution_count": 132,
   "id": "8e3edc98",
   "metadata": {},
   "outputs": [
    {
     "name": "stdout",
     "output_type": "stream",
     "text": [
      "              precision    recall  f1-score   support\n",
      "\n",
      "           0       1.00      0.70      0.83   1270881\n",
      "           1       0.00      0.93      0.01      1643\n",
      "\n",
      "    accuracy                           0.70   1272524\n",
      "   macro avg       0.50      0.81      0.42   1272524\n",
      "weighted avg       1.00      0.70      0.82   1272524\n",
      "\n"
     ]
    }
   ],
   "source": [
    "print(classification_report(y_test,pred_R))"
   ]
  },
  {
   "cell_type": "markdown",
   "id": "8e882f5e",
   "metadata": {},
   "source": [
    "### 2. Random Forest"
   ]
  },
  {
   "cell_type": "markdown",
   "id": "b8e49aa0",
   "metadata": {},
   "source": [
    "Hacemos una búsqueda de un buen modelo a partir de variaciones en los hiperparámetros. En esta primera búsqueda usamos el dataset que pasamos por PCA."
   ]
  },
  {
   "cell_type": "code",
   "execution_count": 133,
   "id": "34197dd7",
   "metadata": {},
   "outputs": [],
   "source": [
    "classifier = RandomForestClassifier()\n",
    "\n",
    "parameters = {\n",
    "        'n_estimators' : range(4,16), \n",
    "        'criterion' : ['entropy'],\n",
    "        'max_depth' : range(2,11)\n",
    "}\n",
    "\n",
    "rand_est = RandomizedSearchCV(classifier, parameters, n_iter =100, cv = 5, scoring ='neg_log_loss').fit(x_train_us_pca,y_train_us)"
   ]
  },
  {
   "cell_type": "markdown",
   "id": "9ff5813d",
   "metadata": {},
   "source": [
    "Obtenemos los mejores parámetros para la búsqueda."
   ]
  },
  {
   "cell_type": "code",
   "execution_count": 134,
   "id": "b0ff79c0",
   "metadata": {},
   "outputs": [
    {
     "name": "stdout",
     "output_type": "stream",
     "text": [
      "RandomForestClassifier(criterion='entropy', max_depth=10, n_estimators=12)\n",
      "{'n_estimators': 12, 'max_depth': 10, 'criterion': 'entropy'}\n"
     ]
    }
   ],
   "source": [
    "print(rand_est.best_estimator_)\n",
    "print(rand_est.best_params_)"
   ]
  },
  {
   "cell_type": "code",
   "execution_count": 136,
   "id": "e19d003d",
   "metadata": {},
   "outputs": [],
   "source": [
    "pred_rf= rand_est.predict(x_test_us_pca)"
   ]
  },
  {
   "cell_type": "code",
   "execution_count": 137,
   "id": "91a942aa",
   "metadata": {},
   "outputs": [
    {
     "data": {
      "text/plain": [
       "0.028863523573200992"
      ]
     },
     "execution_count": 137,
     "metadata": {},
     "output_type": "execute_result"
    }
   ],
   "source": [
    "precission_rf = precision_score(y_test, pred_rf)\n",
    "precission_rf"
   ]
  },
  {
   "cell_type": "code",
   "execution_count": 138,
   "id": "a67c0867",
   "metadata": {},
   "outputs": [
    {
     "data": {
      "text/plain": [
       "0.9614074076402488"
      ]
     },
     "execution_count": 138,
     "metadata": {},
     "output_type": "execute_result"
    }
   ],
   "source": [
    "accuracy_score(y_test, pred_rf)"
   ]
  },
  {
   "cell_type": "code",
   "execution_count": 139,
   "id": "a580cf2a",
   "metadata": {},
   "outputs": [
    {
     "name": "stdout",
     "output_type": "stream",
     "text": [
      "              precision    recall  f1-score   support\n",
      "\n",
      "           0       1.00      0.96      0.98   1270881\n",
      "           1       0.03      0.88      0.06      1643\n",
      "\n",
      "    accuracy                           0.96   1272524\n",
      "   macro avg       0.51      0.92      0.52   1272524\n",
      "weighted avg       1.00      0.96      0.98   1272524\n",
      "\n"
     ]
    }
   ],
   "source": [
    "print(classification_report(y_test,pred_rf))"
   ]
  },
  {
   "cell_type": "markdown",
   "id": "896ea139",
   "metadata": {},
   "source": [
    "Hacemos una segunda búsqueda con el dataset sin PCA."
   ]
  },
  {
   "cell_type": "code",
   "execution_count": 140,
   "id": "5f8ceff2",
   "metadata": {},
   "outputs": [],
   "source": [
    "classifier_2 = RandomForestClassifier()\n",
    "\n",
    "parameters = {\n",
    "        'n_estimators' : range(4,16), \n",
    "        'criterion' : ['entropy'],\n",
    "        'max_depth' : range(2,11)\n",
    "}\n",
    "\n",
    "rand_est_2 = RandomizedSearchCV(classifier_2, parameters, n_iter =100, cv = 5, scoring ='neg_log_loss').fit(X_train_us, y_train_us)"
   ]
  },
  {
   "cell_type": "code",
   "execution_count": 141,
   "id": "79bfd3d2",
   "metadata": {},
   "outputs": [
    {
     "name": "stdout",
     "output_type": "stream",
     "text": [
      "RandomForestClassifier(criterion='entropy', max_depth=10, n_estimators=12)\n",
      "{'n_estimators': 12, 'max_depth': 10, 'criterion': 'entropy'}\n"
     ]
    }
   ],
   "source": [
    "print(rand_est_2.best_estimator_)\n",
    "print(rand_est_2.best_params_)"
   ]
  },
  {
   "cell_type": "code",
   "execution_count": 143,
   "id": "6586241a",
   "metadata": {},
   "outputs": [],
   "source": [
    "pred_rf_2= rand_est_2.predict(X_test)"
   ]
  },
  {
   "cell_type": "code",
   "execution_count": 144,
   "id": "cd917119",
   "metadata": {},
   "outputs": [
    {
     "data": {
      "text/plain": [
       "0.04883087332714589"
      ]
     },
     "execution_count": 144,
     "metadata": {},
     "output_type": "execute_result"
    }
   ],
   "source": [
    "precission_rf = precision_score(y_test, pred_rf_2)\n",
    "precission_rf"
   ]
  },
  {
   "cell_type": "code",
   "execution_count": 145,
   "id": "eac188fa",
   "metadata": {},
   "outputs": [
    {
     "name": "stdout",
     "output_type": "stream",
     "text": [
      "              precision    recall  f1-score   support\n",
      "\n",
      "           0       1.00      0.98      0.99   1270881\n",
      "           1       0.05      0.99      0.09      1643\n",
      "\n",
      "    accuracy                           0.98   1272524\n",
      "   macro avg       0.52      0.98      0.54   1272524\n",
      "weighted avg       1.00      0.98      0.99   1272524\n",
      "\n"
     ]
    }
   ],
   "source": [
    "print(classification_report(y_test,pred_rf_2))"
   ]
  },
  {
   "cell_type": "markdown",
   "id": "a41d9bfd",
   "metadata": {},
   "source": [
    "### 3. Support Vector Machine"
   ]
  },
  {
   "cell_type": "markdown",
   "id": "10ab1d06",
   "metadata": {},
   "source": [
    "Vamos a entrenar un modelo de SVM no lineal con PCA. "
   ]
  },
  {
   "cell_type": "code",
   "execution_count": 146,
   "id": "c5b2b329",
   "metadata": {},
   "outputs": [
    {
     "data": {
      "text/plain": [
       "SVC(C=50)"
      ]
     },
     "execution_count": 146,
     "metadata": {},
     "output_type": "execute_result"
    }
   ],
   "source": [
    "svm = SVC(C=50, kernel=\"rbf\")\n",
    "svm.fit(x_train_us_pca,y_train_us)"
   ]
  },
  {
   "cell_type": "code",
   "execution_count": 147,
   "id": "775adebb",
   "metadata": {},
   "outputs": [],
   "source": [
    "y_pred_svc =svm.predict(x_test_us_pca)"
   ]
  },
  {
   "cell_type": "code",
   "execution_count": 148,
   "id": "ffe5ac37",
   "metadata": {},
   "outputs": [
    {
     "name": "stdout",
     "output_type": "stream",
     "text": [
      "Score the X-train with Y-train is :  0.9164383561643835\n",
      "Score the X-test  with Y-test  is :  0.9585493083038119\n",
      " Model Evaluation SVC : accuracy score  0.9585493083038119\n"
     ]
    }
   ],
   "source": [
    "print(\"Score the X-train with Y-train is : \", svm.score(x_train_us_pca,y_train_us))\n",
    "print(\"Score the X-test  with Y-test  is : \", svm.score(x_test_us_pca, y_test))\n",
    "print(\" Model Evaluation SVC : accuracy score \" , accuracy_score(y_test,y_pred_svc))"
   ]
  },
  {
   "cell_type": "code",
   "execution_count": 149,
   "id": "5e319297",
   "metadata": {},
   "outputs": [
    {
     "name": "stdout",
     "output_type": "stream",
     "text": [
      "              precision    recall  f1-score   support\n",
      "\n",
      "           0       1.00      0.96      0.98   1270881\n",
      "           1       0.03      0.87      0.05      1643\n",
      "\n",
      "    accuracy                           0.96   1272524\n",
      "   macro avg       0.51      0.91      0.52   1272524\n",
      "weighted avg       1.00      0.96      0.98   1272524\n",
      "\n"
     ]
    }
   ],
   "source": [
    "print(classification_report(y_test,y_pred_svc))"
   ]
  },
  {
   "cell_type": "markdown",
   "id": "aba9272d",
   "metadata": {},
   "source": [
    "Ahora vamos a entrenar sin PCA."
   ]
  },
  {
   "cell_type": "code",
   "execution_count": 152,
   "id": "1737acde",
   "metadata": {},
   "outputs": [],
   "source": [
    "X_train_scaled = scaler.fit_transform(X_train_us)\n",
    "X_test_scaled = scaler.transform(X_test)"
   ]
  },
  {
   "cell_type": "code",
   "execution_count": 154,
   "id": "9334bb71",
   "metadata": {},
   "outputs": [
    {
     "data": {
      "text/plain": [
       "SVC(C=50)"
      ]
     },
     "execution_count": 154,
     "metadata": {},
     "output_type": "execute_result"
    }
   ],
   "source": [
    "svm_2 = SVC(C=50, kernel=\"rbf\")\n",
    "svm_2.fit(X_train_scaled,y_train_us)"
   ]
  },
  {
   "cell_type": "code",
   "execution_count": 156,
   "id": "c4f25cdb",
   "metadata": {},
   "outputs": [],
   "source": [
    "y_pred_svc_2 =svm.predict(X_test_scaled)"
   ]
  },
  {
   "cell_type": "code",
   "execution_count": 157,
   "id": "aa7af595",
   "metadata": {},
   "outputs": [
    {
     "name": "stdout",
     "output_type": "stream",
     "text": [
      "Score the X-train with Y-train is :  0.9644596651445967\n",
      "Score the X-test  with Y-test  is :  0.9706449544370086\n",
      " Model Evaluation SVC : accuracy score  0.9706449544370086\n"
     ]
    }
   ],
   "source": [
    "print(\"Score the X-train with Y-train is : \", svm.score(X_train_scaled,y_train_us))\n",
    "print(\"Score the X-test  with Y-test  is : \", svm.score(X_test_scaled, y_test))\n",
    "print(\" Model Evaluation SVC : accuracy score \" , accuracy_score(y_test,y_pred_svc_2))"
   ]
  },
  {
   "cell_type": "code",
   "execution_count": 158,
   "id": "fc6f4433",
   "metadata": {},
   "outputs": [
    {
     "name": "stdout",
     "output_type": "stream",
     "text": [
      "              precision    recall  f1-score   support\n",
      "\n",
      "           0       1.00      0.97      0.99   1270881\n",
      "           1       0.04      0.96      0.08      1643\n",
      "\n",
      "    accuracy                           0.97   1272524\n",
      "   macro avg       0.52      0.96      0.53   1272524\n",
      "weighted avg       1.00      0.97      0.98   1272524\n",
      "\n"
     ]
    }
   ],
   "source": [
    "print(classification_report(y_test,y_pred_svc_2))"
   ]
  },
  {
   "cell_type": "markdown",
   "id": "2601e10b",
   "metadata": {},
   "source": [
    "## Primeras conclusiones"
   ]
  },
  {
   "cell_type": "markdown",
   "id": "c0cc590c",
   "metadata": {},
   "source": [
    "Después de entrenar dos modelos diferentes de regresión (uno con Ridge y otro con Lasso) y dos búsquedas para Random Forest (una con PCA y otra sin PCA), la primera pregunta que me surgió fue ¿Por qué estoy obteniendo tan bajos puntajes en precision y buenos putajes en Accuracy?\n",
    "\n",
    "Cuando veo la precisión para ambas clases, a todos los modelos les cuesta lograr un buen score de precisión para la clase minoritaria. Sin embargo, como la clase mayoritaria la clasifica muy bien, el accuracy tiende a tener puntajes altos porque el accuracy para la clase mayoritaria es alto. Esto quiere decir que en principio, para dataset desvalanceados el promedio del accuracy no es una buena métrica, resulta mejor ver la precisión para cada clase y el accuracy para cada clase. "
   ]
  },
  {
   "cell_type": "code",
   "execution_count": null,
   "id": "0613e133",
   "metadata": {},
   "outputs": [],
   "source": []
  }
 ],
 "metadata": {
  "kernelspec": {
   "display_name": "ami",
   "language": "python",
   "name": "ami"
  },
  "language_info": {
   "codemirror_mode": {
    "name": "ipython",
    "version": 3
   },
   "file_extension": ".py",
   "mimetype": "text/x-python",
   "name": "python",
   "nbconvert_exporter": "python",
   "pygments_lexer": "ipython3",
   "version": "3.9.1"
  }
 },
 "nbformat": 4,
 "nbformat_minor": 5
}
